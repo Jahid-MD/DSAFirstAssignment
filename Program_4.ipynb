{
 "cells": [
  {
   "cell_type": "code",
   "execution_count": 42,
   "id": "6a6edfae",
   "metadata": {},
   "outputs": [
    {
     "data": {
      "application/javascript": [
       "//Q4. Write a program to print the first non-repeated character from a string?\n",
       "\n",
       "var str=\"The Fox is in garden\"\n",
       "\n",
       "\n",
       "function firstNonRepeatedChar(str){\n",
       "    str=str.toLowerCase()\n",
       "    let arr=[]\n",
       "    \n",
       "        for(let i=0;i<str.length;i++)\n",
       "    {\n",
       "\n",
       "        if(!arr.includes(str[i]))\n",
       "        {\n",
       "           arr.push(str[i])\n",
       "        }\n",
       "\n",
       "        else{\n",
       "            if(str[i]==\" \"){\n",
       "                arr.push(str[i])\n",
       "                continue;\n",
       "            }\n",
       "            else\n",
       "            break;\n",
       "        }\n",
       "    }\n",
       "    \n",
       "    return arr.length;\n",
       "}\n",
       "\n",
       "// The first non-repeated character from a string\n",
       "console.log( str.slice(0,firstNonRepeatedChar(str)))\n"
      ],
      "text/plain": [
       "<IPython.core.display.Javascript object>"
      ]
     },
     "metadata": {},
     "output_type": "display_data"
    }
   ],
   "source": [
    "%%javascript\n",
    "//Q4. Write a program to print the first non-repeated character from a string?\n",
    "\n",
    "var str=\"Ape is on t\"\n",
    "\n",
    "\n",
    "function firstNonRepeatedChar(str){\n",
    "    str=str.toLowerCase()\n",
    "    let arr=[]\n",
    "    \n",
    "        for(let i=0;i<str.length;i++)\n",
    "    {\n",
    "\n",
    "        if(!arr.includes(str[i]))\n",
    "        {\n",
    "           arr.push(str[i])\n",
    "        }\n",
    "\n",
    "        else{\n",
    "            if(str[i]==\" \"){\n",
    "                arr.push(str[i])\n",
    "                continue;\n",
    "            }\n",
    "            else\n",
    "            break;\n",
    "        }\n",
    "    }\n",
    "    \n",
    "    return arr.length;\n",
    "}\n",
    "\n",
    "// The first non-repeated character from a string\n",
    "console.log( str.slice(0,firstNonRepeatedChar(str)))"
   ]
  },
  {
   "cell_type": "code",
   "execution_count": null,
   "id": "2a56a50d",
   "metadata": {},
   "outputs": [],
   "source": []
  }
 ],
 "metadata": {
  "kernelspec": {
   "display_name": "Python 3",
   "language": "python",
   "name": "python3"
  },
  "language_info": {
   "codemirror_mode": {
    "name": "ipython",
    "version": 3
   },
   "file_extension": ".py",
   "mimetype": "text/x-python",
   "name": "python",
   "nbconvert_exporter": "python",
   "pygments_lexer": "ipython3",
   "version": "3.8.8"
  }
 },
 "nbformat": 4,
 "nbformat_minor": 5
}
