{
 "cells": [
  {
   "cell_type": "code",
   "execution_count": 19,
   "id": "1251aa25",
   "metadata": {},
   "outputs": [
    {
     "data": {
      "application/javascript": [
       "// Q3. Write a program to check if two strings are a rotation of each other?\n",
       "\n",
       "var str1=\"EDYODA\"\n",
       "var str2=\"DAEDYO\"\n",
       "\n",
       "function isRotational(str1,str2){\n",
       "    let result=(str1+str2).indexOf(str2)\n",
       "    return (str1.length==str2.length)&&(result!= -1)\n",
       "}\n",
       "\n",
       "\n",
       "if(isRotational(str1,str2))\n",
       "    {\n",
       "        console.log(\"The two strings are a rotation of each other\")\n",
       "    }\n",
       "else\n",
       "    {\n",
       "        console.log(\"The two strings are not a rotation of each other\")\n",
       "    }\n"
      ],
      "text/plain": [
       "<IPython.core.display.Javascript object>"
      ]
     },
     "metadata": {},
     "output_type": "display_data"
    }
   ],
   "source": [
    "%%javascript\n",
    "// Q3. Write a program to check if two strings are a rotation of each other?\n",
    "\n",
    "var str1=\"EDYODA\"\n",
    "var str2=\"DAEDYO\"\n",
    "\n",
    "function isRotational(str1,str2){\n",
    "    let result=(str1+str2).indexOf(str2)\n",
    "    return (str1.length==str2.length)&&(result!= -1)\n",
    "}\n",
    "\n",
    "\n",
    "if(isRotational(str1,str2))\n",
    "    {\n",
    "        console.log(\"The two strings are a rotation of each other\")\n",
    "    }\n",
    "else\n",
    "    {\n",
    "        console.log(\"The two strings are not a rotation of each other\")\n",
    "    }"
   ]
  },
  {
   "cell_type": "code",
   "execution_count": null,
   "id": "7021069e",
   "metadata": {},
   "outputs": [],
   "source": []
  }
 ],
 "metadata": {
  "kernelspec": {
   "display_name": "Python 3",
   "language": "python",
   "name": "python3"
  },
  "language_info": {
   "codemirror_mode": {
    "name": "ipython",
    "version": 3
   },
   "file_extension": ".py",
   "mimetype": "text/x-python",
   "name": "python",
   "nbconvert_exporter": "python",
   "pygments_lexer": "ipython3",
   "version": "3.8.8"
  }
 },
 "nbformat": 4,
 "nbformat_minor": 5
}
