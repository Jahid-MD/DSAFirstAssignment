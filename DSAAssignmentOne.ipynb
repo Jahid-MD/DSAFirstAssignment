{
 "cells": [
  {
   "cell_type": "code",
   "execution_count": 2,
   "id": "aa09e157",
   "metadata": {},
   "outputs": [
    {
     "data": {
      "application/javascript": [
       "//Q1. Write a program to find all pairs of an integer array whose sum is equal to a given number?\n",
       "\n",
       "var arr=[0,1,2,3,4,5,6,7,8,9]\n",
       "var pairs=[]\n",
       "var givenNum=6\n",
       "for(let i=0;i<arr.length;i++){\n",
       "    for(let j=i+1;j<arr.length;j++){\n",
       "        let sum=arr[i]+arr[j];\n",
       "        if(sum===givenNum){\n",
       "            pairs.push([arr[i],arr[j]])\n",
       "        }\n",
       "    }\n",
       "}\n",
       "console.log(pairs)\n"
      ],
      "text/plain": [
       "<IPython.core.display.Javascript object>"
      ]
     },
     "metadata": {},
     "output_type": "display_data"
    }
   ],
   "source": [
    "%%javascript\n",
    "//Q1. Write a program to find all pairs of an integer array whose sum is equal to a given number?\n",
    "\n",
    "var arr=[0,1,2,3,4,5,6,7,8,9]\n",
    "var pairs=[]\n",
    "var givenNum=6\n",
    "for(let i=0;i<arr.length;i++){\n",
    "    for(let j=i+1;j<arr.length;j++){\n",
    "        let sum=arr[i]+arr[j];\n",
    "        if(sum===givenNum){\n",
    "            pairs.push([arr[i],arr[j]])\n",
    "        }\n",
    "    }\n",
    "}\n",
    "console.log(pairs)"
   ]
  },
  {
   "cell_type": "code",
   "execution_count": null,
   "id": "bee0d208",
   "metadata": {},
   "outputs": [],
   "source": []
  }
 ],
 "metadata": {
  "kernelspec": {
   "display_name": "Python 3",
   "language": "python",
   "name": "python3"
  },
  "language_info": {
   "codemirror_mode": {
    "name": "ipython",
    "version": 3
   },
   "file_extension": ".py",
   "mimetype": "text/x-python",
   "name": "python",
   "nbconvert_exporter": "python",
   "pygments_lexer": "ipython3",
   "version": "3.8.8"
  }
 },
 "nbformat": 4,
 "nbformat_minor": 5
}
